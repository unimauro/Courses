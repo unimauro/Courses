{
  "cells": [
    {
      "metadata": {},
      "cell_type": "markdown",
      "source": "# Introducción a modelos de regresión"
    },
    {
      "metadata": {},
      "cell_type": "markdown",
      "source": "## Primera parte: Analizar los datos"
    },
    {
      "metadata": {
        "collapsed": true
      },
      "cell_type": "markdown",
      "source": "### Importamos las librerías necesarias"
    },
    {
      "metadata": {
        "trusted": true
      },
      "cell_type": "code",
      "source": "import numpy as np # algebra lineal\nimport pandas as pd # procesamiento de datos\nimport matplotlib.pyplot as plt # generación de gráficos",
      "execution_count": null,
      "outputs": []
    },
    {
      "metadata": {},
      "cell_type": "markdown",
      "source": "### Importamos nuestro conjunto de datos"
    },
    {
      "metadata": {
        "trusted": true
      },
      "cell_type": "code",
      "source": "precios_casas = pd.read_csv(\"./house_data.csv\")",
      "execution_count": null,
      "outputs": []
    },
    {
      "metadata": {},
      "cell_type": "markdown",
      "source": "### Analizamos los datos y metadatos de nuestro data frame"
    },
    {
      "metadata": {
        "trusted": true
      },
      "cell_type": "code",
      "source": "precios_casas.describe()",
      "execution_count": null,
      "outputs": []
    },
    {
      "metadata": {},
      "cell_type": "markdown",
      "source": "### Limpiamos los valores nulos"
    },
    {
      "metadata": {
        "trusted": true
      },
      "cell_type": "code",
      "source": "precios_casas = precios_casas.fillna(method='ffill')",
      "execution_count": null,
      "outputs": []
    },
    {
      "metadata": {},
      "cell_type": "markdown",
      "source": "## Segunda parte: Modelo de regresión lineal simple"
    },
    {
      "metadata": {},
      "cell_type": "markdown",
      "source": "### Extraemos nuestras variables a usar"
    },
    {
      "metadata": {
        "trusted": true
      },
      "cell_type": "code",
      "source": "datos = precios_casas['sqft_living']\nprecio = precios_casas['price']",
      "execution_count": null,
      "outputs": []
    },
    {
      "metadata": {
        "trusted": true
      },
      "cell_type": "code",
      "source": "x = np.array(datos).reshape(-1, 1)\ny = np.array(precio)",
      "execution_count": null,
      "outputs": []
    },
    {
      "metadata": {},
      "cell_type": "markdown",
      "source": "### Debemos separar nuestros datos para entrenamiento y pruebas"
    },
    {
      "metadata": {
        "trusted": true
      },
      "cell_type": "code",
      "source": "from sklearn.model_selection import train_test_split \nxtrain, xtest, ytrain, ytest = train_test_split(x,y,test_size=1/3, random_state=0)",
      "execution_count": null,
      "outputs": []
    },
    {
      "metadata": {},
      "cell_type": "markdown",
      "source": "### Generamos nuestro modelo de regresión lineal"
    },
    {
      "metadata": {
        "trusted": true
      },
      "cell_type": "code",
      "source": "from sklearn.linear_model import LinearRegression \nregressor = LinearRegression()\nregressor.fit(xtrain, ytrain)",
      "execution_count": null,
      "outputs": []
    },
    {
      "metadata": {},
      "cell_type": "markdown",
      "source": "### Validamos nuestro modelo con la base de pruebas"
    },
    {
      "metadata": {
        "trusted": true
      },
      "cell_type": "code",
      "source": "pred = regressor.predict(xtest)",
      "execution_count": null,
      "outputs": []
    },
    {
      "metadata": {
        "trusted": true
      },
      "cell_type": "code",
      "source": "pred",
      "execution_count": null,
      "outputs": []
    },
    {
      "metadata": {},
      "cell_type": "markdown",
      "source": "### Graficamos nuestro modelo"
    },
    {
      "metadata": {
        "trusted": true
      },
      "cell_type": "code",
      "source": "#Visualizamos nuestra base de entrenamiento\nplt.scatter(xtrain, ytrain, color= 'red')\nplt.plot(xtrain, regressor.predict(xtrain), color = 'blue')\nplt.title (\"Análisis de los datos de entrenamiento\")\nplt.xlabel(\"Espacio\")\nplt.ylabel(\"Precio\")\nplt.show()",
      "execution_count": null,
      "outputs": []
    },
    {
      "metadata": {
        "trusted": true
      },
      "cell_type": "code",
      "source": "#Visualizamos nuestra base de pruebas\nplt.scatter(xtest, ytest, color= 'red')\nplt.plot(xtrain, regressor.predict(xtrain), color = 'blue')\nplt.title(\"Análisis de los datos de prueba\")\nplt.xlabel(\"Espacio\")\nplt.ylabel(\"Precio\")\nplt.show()",
      "execution_count": null,
      "outputs": []
    },
    {
      "metadata": {},
      "cell_type": "markdown",
      "source": "### Verificamos el accuracy de nuestro modelo"
    },
    {
      "metadata": {
        "trusted": true
      },
      "cell_type": "code",
      "source": "accuracy = regressor.score(xtest, ytest)",
      "execution_count": null,
      "outputs": []
    },
    {
      "metadata": {
        "trusted": true
      },
      "cell_type": "code",
      "source": "print(\"Accuracy: {}%\".format(int(round(accuracy * 100))))",
      "execution_count": null,
      "outputs": []
    },
    {
      "metadata": {},
      "cell_type": "markdown",
      "source": "## Segundo modelo: Regresión Lineal múltiple"
    },
    {
      "metadata": {},
      "cell_type": "markdown",
      "source": "### Revisamos todos los campos y verificamos cuales sí deberían aplicar a nuestro modelo"
    },
    {
      "metadata": {
        "trusted": true
      },
      "cell_type": "code",
      "source": "all_params = list(precios_casas)",
      "execution_count": null,
      "outputs": []
    },
    {
      "metadata": {
        "trusted": true
      },
      "cell_type": "code",
      "source": "x_vars=['bedrooms', 'bathrooms', 'sqft_living', 'sqft_lot','floors', 'waterfront','condition', 'grade', 'sqft_above', 'sqft_basement', 'yr_built','sqft_living15', 'sqft_lot15','yr_renovated']\nprint(list(set(all_params) - set(x_vars)))",
      "execution_count": null,
      "outputs": []
    },
    {
      "metadata": {},
      "cell_type": "markdown",
      "source": "### Descartamos las variables que no serán utilizadas y asignamos nuestra variable objetivo"
    },
    {
      "metadata": {
        "trusted": true
      },
      "cell_type": "code",
      "source": "y = precios_casas.iloc[:, 2].values\nprecios_casas = precios_casas.drop(['date','price','lat', 'zipcode', 'view', 'id', 'long'], axis =1)\nX = precios_casas.iloc[:, ].values",
      "execution_count": null,
      "outputs": []
    },
    {
      "metadata": {},
      "cell_type": "markdown",
      "source": "### Separamos en datos de entrenamiento y testing"
    },
    {
      "metadata": {
        "trusted": true
      },
      "cell_type": "code",
      "source": "from sklearn.model_selection import train_test_split\nX_train, X_test, y_train, y_test = train_test_split(X, y, test_size = 0.2, random_state = 0)",
      "execution_count": null,
      "outputs": []
    },
    {
      "metadata": {},
      "cell_type": "markdown",
      "source": "### Aplicamos un Scaler para que nuestra regresión lineal soporte más de una variable"
    },
    {
      "metadata": {
        "trusted": true
      },
      "cell_type": "code",
      "source": "from sklearn.preprocessing import StandardScaler\nsc_X = StandardScaler()\nX_train = sc_X.fit_transform(X_train)\nX_test = sc_X.transform(X_test)",
      "execution_count": null,
      "outputs": []
    },
    {
      "metadata": {
        "trusted": true
      },
      "cell_type": "code",
      "source": "from sklearn.linear_model import LinearRegression\nregressor = LinearRegression()\nregressor.fit(X_train, y_train)\ny_pred = regressor.predict(X_test)",
      "execution_count": null,
      "outputs": []
    },
    {
      "metadata": {},
      "cell_type": "markdown",
      "source": "### Verificamos el accuracy de nuestro modelo"
    },
    {
      "metadata": {
        "trusted": true
      },
      "cell_type": "code",
      "source": "accuracy = regressor.score(X_test, y_test)\nprint(\"Accuracy: {}%\".format(int(round(accuracy * 100))))",
      "execution_count": null,
      "outputs": []
    }
  ],
  "metadata": {
    "kernelspec": {
      "name": "python36",
      "display_name": "Python 3.6",
      "language": "python"
    },
    "language_info": {
      "mimetype": "text/x-python",
      "nbconvert_exporter": "python",
      "name": "python",
      "pygments_lexer": "ipython3",
      "version": "3.6.6",
      "file_extension": ".py",
      "codemirror_mode": {
        "version": 3,
        "name": "ipython"
      }
    }
  },
  "nbformat": 4,
  "nbformat_minor": 2
}