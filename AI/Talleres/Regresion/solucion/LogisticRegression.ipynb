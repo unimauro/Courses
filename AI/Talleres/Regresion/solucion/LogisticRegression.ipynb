{
  "cells": [
    {
      "metadata": {},
      "cell_type": "markdown",
      "source": "# Introducción a modelos de regresión"
    },
    {
      "metadata": {},
      "cell_type": "markdown",
      "source": "## Primera parte: Analizar los datos"
    },
    {
      "metadata": {},
      "cell_type": "markdown",
      "source": "### Importamos las librerías necesarias"
    },
    {
      "metadata": {
        "trusted": true
      },
      "cell_type": "code",
      "source": "import numpy as np\nimport pandas as pd\nfrom sklearn.model_selection import train_test_split\nfrom sklearn.linear_model import LogisticRegression\nimport matplotlib.pyplot as plt",
      "execution_count": null,
      "outputs": []
    },
    {
      "metadata": {},
      "cell_type": "markdown",
      "source": "### Importamos nuestro conjunto de datos"
    },
    {
      "metadata": {
        "trusted": true
      },
      "cell_type": "code",
      "source": "enfermedad_corazon=pd.read_csv('./heart_disease.csv')",
      "execution_count": null,
      "outputs": []
    },
    {
      "metadata": {},
      "cell_type": "markdown",
      "source": "### Analizamos los datos y metadatos de nuestro data frame"
    },
    {
      "metadata": {
        "trusted": true
      },
      "cell_type": "code",
      "source": "enfermedad_corazon.head()",
      "execution_count": null,
      "outputs": []
    },
    {
      "metadata": {
        "trusted": true
      },
      "cell_type": "code",
      "source": "enfermedad_corazon.isnull().sum()",
      "execution_count": null,
      "outputs": []
    },
    {
      "metadata": {
        "trusted": true
      },
      "cell_type": "code",
      "source": "enfermedad_corazon=enfermedad_corazon.dropna()\nenfermedad_corazon.isnull().sum()",
      "execution_count": null,
      "outputs": []
    },
    {
      "metadata": {
        "trusted": true
      },
      "cell_type": "code",
      "source": "enfermedad_corazon.corr()",
      "execution_count": null,
      "outputs": []
    },
    {
      "metadata": {
        "trusted": true
      },
      "cell_type": "code",
      "source": "print(enfermedad_corazon.groupby('TenYearCHD').size())",
      "execution_count": null,
      "outputs": []
    },
    {
      "metadata": {},
      "cell_type": "markdown",
      "source": "## Segunda parte: Modelo de regresión logística"
    },
    {
      "metadata": {
        "trusted": true
      },
      "cell_type": "code",
      "source": "X=enfermedad_corazon[enfermedad_corazon.columns]\nX=X.drop(columns=['TenYearCHD'])\nX.head()",
      "execution_count": null,
      "outputs": []
    },
    {
      "metadata": {
        "trusted": true
      },
      "cell_type": "code",
      "source": "Y=enfermedad_corazon['TenYearCHD']\nY.head()",
      "execution_count": null,
      "outputs": []
    },
    {
      "metadata": {
        "trusted": true
      },
      "cell_type": "code",
      "source": "X=enfermedad_corazon[['age','cigsPerDay','totChol','sysBP','diaBP','glucose']]\nX.head()",
      "execution_count": null,
      "outputs": []
    },
    {
      "metadata": {
        "trusted": true
      },
      "cell_type": "markdown",
      "source": "### Separamos nuestros datos en entrenamiento y pruebas"
    },
    {
      "metadata": {
        "trusted": true
      },
      "cell_type": "code",
      "source": "x_train,x_test,y_train,y_test=train_test_split(X,Y,test_size=0.2,random_state=1)",
      "execution_count": null,
      "outputs": []
    },
    {
      "metadata": {},
      "cell_type": "markdown",
      "source": "### Creamos nuestro modelo y lo entrenamos"
    },
    {
      "metadata": {
        "trusted": true
      },
      "cell_type": "code",
      "source": "mi_modelo=LogisticRegression(max_iter=1)\nmi_modelo.fit(x_train,y_train)",
      "execution_count": null,
      "outputs": []
    },
    {
      "metadata": {},
      "cell_type": "markdown",
      "source": "### Verificamos el accuracy de nuestro modelo"
    },
    {
      "metadata": {
        "trusted": true
      },
      "cell_type": "code",
      "source": "result=mi_modelo.score(x_test,y_test)\nprint('Accuracy : ' ,(result))",
      "execution_count": null,
      "outputs": []
    },
    {
      "metadata": {
        "trusted": true
      },
      "cell_type": "code",
      "source": "",
      "execution_count": null,
      "outputs": []
    }
  ],
  "metadata": {
    "kernelspec": {
      "name": "python36",
      "display_name": "Python 3.6",
      "language": "python"
    },
    "language_info": {
      "mimetype": "text/x-python",
      "nbconvert_exporter": "python",
      "name": "python",
      "pygments_lexer": "ipython3",
      "version": "3.6.6",
      "file_extension": ".py",
      "codemirror_mode": {
        "version": 3,
        "name": "ipython"
      }
    }
  },
  "nbformat": 4,
  "nbformat_minor": 2
}